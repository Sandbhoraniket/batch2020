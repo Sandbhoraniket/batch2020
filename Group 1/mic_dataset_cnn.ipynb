{
 "cells": [
  {
   "cell_type": "code",
   "execution_count": 0,
   "metadata": {
    "colab": {
     "base_uri": "https://localhost:8080/",
     "height": 34
    },
    "colab_type": "code",
    "id": "IuLyU2Jg3H12",
    "outputId": "0ace9756-00e2-4e30-d519-2e31b2c3c76b"
   },
   "outputs": [
    {
     "name": "stdout",
     "output_type": "stream",
     "text": [
      "Drive already mounted at /content/drive/; to attempt to forcibly remount, call drive.mount(\"/content/drive/\", force_remount=True).\n"
     ]
    }
   ],
   "source": [
    "from google.colab import drive\n",
    "drive.mount('/content/drive/')"
   ]
  },
  {
   "cell_type": "code",
   "execution_count": 0,
   "metadata": {
    "colab": {},
    "colab_type": "code",
    "id": "zthLJNsm3nhZ"
   },
   "outputs": [],
   "source": [
    "import os\n",
    "os.chdir(\"/content/drive/My Drive/fin_mic_bin\")"
   ]
  },
  {
   "cell_type": "code",
   "execution_count": 0,
   "metadata": {
    "colab": {
     "base_uri": "https://localhost:8080/",
     "height": 231
    },
    "colab_type": "code",
    "id": "fqOoZBM6AEMl",
    "outputId": "02345886-5557-442b-bad4-6f1a841744b3",
    "scrolled": true
   },
   "outputs": [],
   "source": [
    "import numpy as np\n",
    "import glob\n",
    "import os\n",
    "from scipy.misc import imsave\n",
    "import imageio\n",
    "import pandas as pd\n",
    "x=pd.read_csv('trainLabels.csv')\n",
    "for i in x:\n",
    "    file=open(\"train/\"+str(x['Id'][i])+\".bytes\")\n",
    "    ln=os.path.getsize(\"train/\"+str(x['Id'][i])+\".bytes\")\n",
    "    kbs=ln/1024\n",
    "    #f=open(\"train/\"+str(x['Id'][i])+\".bytes\",'rb')\n",
    "    out = file.readlines()\n",
    "    count = 0\n",
    "    arr = ''\n",
    "    arr2=[]\n",
    "    for line in out:\n",
    "        line2 = line.split(' ', 1)[1]\n",
    "        line3 = line2.split(' ')\n",
    "        for l in line3:\n",
    "            try:\n",
    "                binval = '{:08b}'.format(int(l, 16))\n",
    "                arr += str(binval)\n",
    "            except:\n",
    "                count += 1\n",
    "       \n",
    "    arr2 = [arr[start:start+8] for start in range(0, len(arr), 8)]\n",
    "\n",
    "    # making decimal values and saving them in file\n",
    "    decval_list = []\n",
    "    for a in arr2:\n",
    "        decval = int(a, 2)\n",
    "        decval_list.append(decval)\n",
    "        #file2.write(str(decval)+\" \")\n",
    "\n",
    "    lengthoflist = len(decval_list)\n",
    "    #print(decval_list)\n",
    "    width= 1024\n",
    "    width= 1024\n",
    "    if(kbs>0 and kbs<10):\n",
    "        width= 32\n",
    "    elif(kbs>=10 and ln<30):\n",
    "        width= 64\n",
    "    elif(kbs>=30 and ln<60):\n",
    "        width= 128\n",
    "    elif(kbs>=60 and ln<100):\n",
    "        width= 256\n",
    "    elif(kbs>=100 and ln<200):\n",
    "        width= 384\n",
    "    elif(kbs>=200 and ln<500):\n",
    "        width= 512\n",
    "    elif(kbs>=500 and ln<1000):\n",
    "        width= 768\n",
    "    rem= lengthoflist%width\n",
    "    decval_list=decval_list[0:lengthoflist-rem]\n",
    "    g=np.reshape(decval_list,(int(len(decval_list)/width),width))\n",
    "    #print(g.shape)\n",
    "    imsave(\"bytes_img/\"+str(x['Id'][i])+'.png',g)\n",
    "    os.remove(\"train/\"+str(x['Id'][i])+\".bytes\")\n",
    "    print(i)"
   ]
  },
  {
   "cell_type": "code",
   "execution_count": 0,
   "metadata": {
    "colab": {
     "base_uri": "https://localhost:8080/",
     "height": 34
    },
    "colab_type": "code",
    "id": "34ch7dBV4HSO",
    "outputId": "658a5271-97be-4eed-d781-2adced0a3916"
   },
   "outputs": [
    {
     "name": "stderr",
     "output_type": "stream",
     "text": [
      "Using TensorFlow backend.\n"
     ]
    }
   ],
   "source": [
    "from keras.preprocessing.image import ImageDataGenerator as idg\n",
    "from keras.models import Sequential as seq\n",
    "from keras.layers import Conv2D\n",
    "from keras.layers import MaxPooling2D as MaxP2D\n",
    "from keras.layers import Dense, Flatten, Dropout\n",
    "import os"
   ]
  },
  {
   "cell_type": "code",
   "execution_count": 0,
   "metadata": {
    "colab": {
     "base_uri": "https://localhost:8080/",
     "height": 165358
    },
    "colab_type": "code",
    "id": "rJyO8IhJ81v3",
    "outputId": "fbedbb75-ee68-41eb-d1a8-a0d7156e126b"
   },
   "outputs": [
    {
     "name": "stdout",
     "output_type": "stream",
     "text": []
    }
   ],
   "source": [
    "import pandas as pd\n",
    "import numpy,scipy.misc, os, array\n",
    "from scipy.misc import imsave\n",
    "#import pandas as pd\n",
    "import numpy,scipy.misc, os, array\n",
    "import cv2\n",
    "x=pd.read_csv('trainLabels.csv')\n",
    "for i in range (0,len(x)):\n",
    "    image=cv2.imread(\"bytes_img/\"+str(x['Id'][i])+\".png\")\n",
    "    resized = cv2.resize(image,(256,256))\n",
    "    cv2.imwrite(\"bs_img/c\"+str(x['Class'][i])+\"/\"+str(x['Id'][i])+\".png\", resized)"
   ]
  },
  {
   "cell_type": "code",
   "execution_count": 0,
   "metadata": {
    "colab": {},
    "colab_type": "code",
    "id": "dcatuSrJ6iom"
   },
   "outputs": [],
   "source": [
    "image_width, image_height = 224,224\n",
    "rescl = 1. / 255\n",
    "\n",
    "training_dir = 'bs_img/'\n"
   ]
  },
  {
   "cell_type": "code",
   "execution_count": 0,
   "metadata": {
    "colab": {
     "base_uri": "https://localhost:8080/",
     "height": 176
    },
    "colab_type": "code",
    "id": "vh6uxmF0MUxY",
    "outputId": "04131383-1e3e-4449-9c29-6eb1c34ab099"
   },
   "outputs": [
    {
     "name": "stdout",
     "output_type": "stream",
     "text": [
      "WARNING:tensorflow:From /usr/local/lib/python3.6/dist-packages/tensorflow/python/framework/op_def_library.py:263: colocate_with (from tensorflow.python.framework.ops) is deprecated and will be removed in a future version.\n",
      "Instructions for updating:\n",
      "Colocations handled automatically by placer.\n",
      "VGG's  19  layers are not added to the layer\n",
      "done\n",
      "WARNING:tensorflow:From /usr/local/lib/python3.6/dist-packages/keras/backend/tensorflow_backend.py:3445: calling dropout (from tensorflow.python.ops.nn_ops) with keep_prob is deprecated and will be removed in a future version.\n",
      "Instructions for updating:\n",
      "Please use `rate` instead of `keep_prob`. Rate should be set to `rate = 1 - keep_prob`.\n"
     ]
    }
   ],
   "source": [
    "from keras.applications.vgg16 import VGG16\n",
    "vgg = seq()\n",
    "vgg.add(Conv2D(3,[3,3],strides=1,padding='same',activation='relu',\n",
    "                        input_shape=(image_width, image_height, 1)))\n",
    "_vgg = VGG16(weights='imagenet', include_top=False)\n",
    "counter=0\n",
    "for layer in _vgg.layers:\n",
    "    layer.trainable = False\n",
    "    counter+=1\n",
    "print(\"VGG's \", counter , \" layers are not added to the layer\")\n",
    "vgg.add(_vgg)\n",
    "print(\"done\")\n",
    "vgg.add(Flatten())\n",
    "\n",
    "vgg.add(Dense(4096,activation='relu'))\n",
    "vgg.add(Dropout(0.5))\n",
    "vgg.add(Dense(9,activation=\"softmax\"))\n",
    "from keras.optimizers import SGD\n",
    "SGD(lr=0.001, momentum=0.9, decay=0.0005)\n",
    "vgg.compile(loss='categorical_crossentropy',\n",
    "              optimizer='SGD',\n",
    "              metrics=['accuracy'])\n",
    "#vgg.compile(optimizer='adam',loss='categorical_crossentropy',metrics=['accuracy'])"
   ]
  },
  {
   "cell_type": "code",
   "execution_count": 0,
   "metadata": {
    "colab": {
     "base_uri": "https://localhost:8080/",
     "height": 347
    },
    "colab_type": "code",
    "id": "cOzvaIZ-H-5v",
    "outputId": "aa6f5d5e-b505-4f40-aaf1-c00ea4184c66"
   },
   "outputs": [
    {
     "name": "stdout",
     "output_type": "stream",
     "text": [
      "_________________________________________________________________\n",
      "Layer (type)                 Output Shape              Param #   \n",
      "=================================================================\n",
      "conv2d_1 (Conv2D)            (None, 224, 224, 3)       30        \n",
      "_________________________________________________________________\n",
      "vgg16 (Model)                multiple                  14714688  \n",
      "_________________________________________________________________\n",
      "flatten_1 (Flatten)          (None, 25088)             0         \n",
      "_________________________________________________________________\n",
      "dense_1 (Dense)              (None, 4096)              102764544 \n",
      "_________________________________________________________________\n",
      "dropout_1 (Dropout)          (None, 4096)              0         \n",
      "_________________________________________________________________\n",
      "dense_2 (Dense)              (None, 9)                 36873     \n",
      "=================================================================\n",
      "Total params: 117,516,135\n",
      "Trainable params: 102,801,447\n",
      "Non-trainable params: 14,714,688\n",
      "_________________________________________________________________\n"
     ]
    }
   ],
   "source": [
    "vgg.summary()"
   ]
  },
  {
   "cell_type": "code",
   "execution_count": 0,
   "metadata": {
    "colab": {
     "base_uri": "https://localhost:8080/",
     "height": 1351
    },
    "colab_type": "code",
    "id": "D0X_3hEcNNXK",
    "outputId": "60befa63-f968-4011-ea51-e8596551fe12"
   },
   "outputs": [
    {
     "name": "stdout",
     "output_type": "stream",
     "text": [
      "Found 7606 images belonging to 9 classes.\n",
      "Found 3253 images belonging to 9 classes.\n",
      "WARNING:tensorflow:From /usr/local/lib/python3.6/dist-packages/tensorflow/python/ops/math_ops.py:3066: to_int32 (from tensorflow.python.ops.math_ops) is deprecated and will be removed in a future version.\n",
      "Instructions for updating:\n",
      "Use tf.cast instead.\n",
      "Epoch 1/30\n",
      "76/76 [==============================] - 187s 2s/step - loss: 2.2344 - acc: 0.4778 - val_loss: 0.9146 - val_acc: 0.7925\n",
      "Epoch 2/30\n",
      "76/76 [==============================] - 175s 2s/step - loss: 0.8243 - acc: 0.7359 - val_loss: 0.7032 - val_acc: 0.7586\n",
      "Epoch 3/30\n",
      "76/76 [==============================] - 169s 2s/step - loss: 0.5777 - acc: 0.8193 - val_loss: 0.5051 - val_acc: 0.8271\n",
      "Epoch 4/30\n",
      "76/76 [==============================] - 169s 2s/step - loss: 0.5247 - acc: 0.8465 - val_loss: 0.4231 - val_acc: 0.8827\n",
      "Epoch 5/30\n",
      "76/76 [==============================] - 170s 2s/step - loss: 0.4306 - acc: 0.8684 - val_loss: 0.3842 - val_acc: 0.8757\n",
      "Epoch 6/30\n",
      "76/76 [==============================] - 169s 2s/step - loss: 0.4320 - acc: 0.8649 - val_loss: 0.3399 - val_acc: 0.8934\n",
      "Epoch 7/30\n",
      "76/76 [==============================] - 169s 2s/step - loss: 0.3608 - acc: 0.8916 - val_loss: 0.3285 - val_acc: 0.8972\n",
      "Epoch 8/30\n",
      "76/76 [==============================] - 169s 2s/step - loss: 0.3315 - acc: 0.9029 - val_loss: 0.3086 - val_acc: 0.8991\n",
      "Epoch 9/30\n",
      "76/76 [==============================] - 169s 2s/step - loss: 0.3125 - acc: 0.9059 - val_loss: 0.2685 - val_acc: 0.9305\n",
      "Epoch 10/30\n",
      "76/76 [==============================] - 169s 2s/step - loss: 0.3240 - acc: 0.9026 - val_loss: 0.2949 - val_acc: 0.8988\n",
      "Epoch 11/30\n",
      "76/76 [==============================] - 169s 2s/step - loss: 0.4379 - acc: 0.8893 - val_loss: 0.2671 - val_acc: 0.9264\n",
      "Epoch 12/30\n",
      "76/76 [==============================] - 169s 2s/step - loss: 0.2765 - acc: 0.9196 - val_loss: 0.2344 - val_acc: 0.9309\n",
      "Epoch 13/30\n",
      "76/76 [==============================] - 169s 2s/step - loss: 0.2503 - acc: 0.9263 - val_loss: 0.2313 - val_acc: 0.9315\n",
      "Epoch 14/30\n",
      "76/76 [==============================] - 169s 2s/step - loss: 0.2973 - acc: 0.9093 - val_loss: 0.2410 - val_acc: 0.9340\n",
      "Epoch 15/30\n",
      "76/76 [==============================] - 169s 2s/step - loss: 0.2347 - acc: 0.9334 - val_loss: 0.2186 - val_acc: 0.9382\n",
      "Epoch 16/30\n",
      "76/76 [==============================] - 169s 2s/step - loss: 0.2409 - acc: 0.9304 - val_loss: 0.2330 - val_acc: 0.9315\n",
      "Epoch 17/30\n",
      "76/76 [==============================] - 169s 2s/step - loss: 0.3852 - acc: 0.9078 - val_loss: 0.2301 - val_acc: 0.9401\n",
      "Epoch 18/30\n",
      "76/76 [==============================] - 169s 2s/step - loss: 0.2746 - acc: 0.9245 - val_loss: 0.2377 - val_acc: 0.9340\n",
      "Epoch 19/30\n",
      "76/76 [==============================] - 169s 2s/step - loss: 0.2755 - acc: 0.9241 - val_loss: 0.2232 - val_acc: 0.9318\n",
      "Epoch 20/30\n",
      "76/76 [==============================] - 169s 2s/step - loss: 0.2112 - acc: 0.9426 - val_loss: 0.1973 - val_acc: 0.9493\n",
      "Epoch 21/30\n",
      "76/76 [==============================] - 169s 2s/step - loss: 0.2202 - acc: 0.9318 - val_loss: 0.2104 - val_acc: 0.9423\n",
      "Epoch 22/30\n",
      "76/76 [==============================] - 169s 2s/step - loss: 0.2203 - acc: 0.9370 - val_loss: 0.2000 - val_acc: 0.9432\n",
      "Epoch 23/30\n",
      "76/76 [==============================] - 169s 2s/step - loss: 0.1924 - acc: 0.9466 - val_loss: 0.1770 - val_acc: 0.9502\n",
      "Epoch 24/30\n",
      "76/76 [==============================] - 169s 2s/step - loss: 0.2018 - acc: 0.9391 - val_loss: 0.1799 - val_acc: 0.9499\n",
      "Epoch 25/30\n",
      "76/76 [==============================] - 169s 2s/step - loss: 0.1940 - acc: 0.9421 - val_loss: 0.2177 - val_acc: 0.9356\n",
      "Epoch 26/30\n",
      "76/76 [==============================] - 169s 2s/step - loss: 0.1811 - acc: 0.9493 - val_loss: 0.1550 - val_acc: 0.9581\n",
      "Epoch 27/30\n",
      "76/76 [==============================] - 169s 2s/step - loss: 0.1637 - acc: 0.9528 - val_loss: 0.1824 - val_acc: 0.9420\n",
      "Epoch 28/30\n",
      "76/76 [==============================] - 169s 2s/step - loss: 0.1720 - acc: 0.9503 - val_loss: 0.1785 - val_acc: 0.9515\n",
      "Epoch 29/30\n",
      "76/76 [==============================] - 169s 2s/step - loss: 0.1639 - acc: 0.9524 - val_loss: 0.2017 - val_acc: 0.9343\n",
      "Epoch 30/30\n",
      "76/76 [==============================] - 169s 2s/step - loss: 0.1466 - acc: 0.9585 - val_loss: 0.1779 - val_acc: 0.9493\n"
     ]
    }
   ],
   "source": [
    "bs = 100\n",
    "epoch  = 30\n",
    "train_datagen = idg(\n",
    "    rescale=rescl,\n",
    "    validation_split=0.3)\n",
    "    #shear_range=0.2,\n",
    "    #zoom_range=0.2,\n",
    "    #width_shift_range=0.2,\n",
    "    #height_shift_range=0.2,\n",
    "    #horizontal_flip=True,\n",
    "    #)\n",
    "    \n",
    "traincomplete_datagen = idg(\n",
    "    rescale=rescl)\n",
    "    #shear_range=0.2,\n",
    "    #zoom_range=0.2,\n",
    "    #width_shift_range=0.2,\n",
    "    #height_shift_range=0.2,\n",
    "    #horizontal_flip=True,\n",
    "    #)\n",
    "\n",
    "train_generator = train_datagen.flow_from_directory(\n",
    "    training_dir,\n",
    "    target_size=(image_width, image_height),\n",
    "    batch_size=bs,\n",
    "    color_mode=\"grayscale\",\n",
    "    class_mode='categorical',\n",
    "    subset='training')\n",
    "\n",
    "validation_generator = train_datagen.flow_from_directory(\n",
    "    training_dir,\n",
    "    target_size=(image_width, image_height),\n",
    "    batch_size=bs,\n",
    "    color_mode=\"grayscale\",\n",
    "    class_mode='categorical',\n",
    "    subset='validation')\n",
    "\n",
    "history= vgg.fit_generator(\n",
    "    train_generator,\n",
    "    steps_per_epoch=train_generator.samples//bs,\n",
    "    epochs=epoch,\n",
    "    validation_data=validation_generator,\n",
    "    validation_steps=validation_generator.samples//bs)\n",
    ")"
   ]
  },
  {
   "cell_type": "code",
   "execution_count": 0,
   "metadata": {
    "colab": {
     "base_uri": "https://localhost:8080/",
     "height": 735
    },
    "colab_type": "code",
    "id": "VuAXU5v-65_f",
    "outputId": "e8005a58-f471-4016-c76a-41453651533a"
   },
   "outputs": [
    {
     "data": {
      "image/png": "[encoded data removed]",
      "text/plain": [
       "<Figure size 576x396 with 1 Axes>"
      ]
     },
     "metadata": {
      "tags": []
     },
     "output_type": "display_data"
    },
    {
     "data": {
      "image/png": "[encoded data removed]",
      "text/plain": [
       "<Figure size 576x396 with 1 Axes>"
      ]
     },
     "metadata": {
      "tags": []
     },
     "output_type": "display_data"
    }
   ],
   "source": [
    "import matplotlib.pyplot as plt\n",
    "\n",
    "\n",
    "# Plot training & validation accuracy values\n",
    "plt.plot(history.history['acc'])\n",
    "plt.plot(history.history['val_acc'])\n",
    "plt.title('Model accuracy')\n",
    "plt.ylabel('Accuracy')\n",
    "plt.xlabel('Epoch')\n",
    "plt.legend(['Train', 'Test'], loc='upper left')\n",
    "plt.show()\n",
    "\n",
    "# Plot training & validation loss values\n",
    "plt.plot(history.history['loss'])\n",
    "plt.plot(history.history['val_loss'])\n",
    "plt.title('Model loss')\n",
    "plt.ylabel('Loss')\n",
    "plt.xlabel('Epoch')\n",
    "plt.legend(['Train', 'Test'], loc='upper left')\n",
    "plt.show()"
   ]
  }
 ],
 "metadata": {
  "accelerator": "GPU",
  "colab": {
   "collapsed_sections": [],
   "name": "mic_dataset_cnn.ipynb",
   "provenance": [],
   "version": "0.3.2"
  },
  "kernelspec": {
   "display_name": "Python 3",
   "language": "python",
   "name": "python3"
  },
  "language_info": {
   "codemirror_mode": {
    "name": "ipython",
    "version": 3
   },
   "file_extension": ".py",
   "mimetype": "text/x-python",
   "name": "python",
   "nbconvert_exporter": "python",
   "pygments_lexer": "ipython3",
   "version": "3.6.7"
  }
 },
 "nbformat": 4,
 "nbformat_minor": 1
}
